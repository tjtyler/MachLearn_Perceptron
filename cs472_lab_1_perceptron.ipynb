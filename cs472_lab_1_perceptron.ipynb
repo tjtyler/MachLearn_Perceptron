{
  "cells": [
    {
      "cell_type": "markdown",
      "metadata": {
        "id": "DVL7_bgmIAPR"
      },
      "source": [
        "# Perceptron Lab\n",
        "\n",
        "\n",
        "\n"
      ]
    },
    {
      "cell_type": "code",
      "execution_count": 1,
      "metadata": {
        "id": "6ZbYjZZZ_yLV"
      },
      "outputs": [],
      "source": [
        "from sklearn.base import BaseEstimator, ClassifierMixin\n",
        "from sklearn.linear_model import Perceptron\n",
        "import numpy as np\n",
        "import random\n",
        "import matplotlib.pyplot as plt"
      ]
    },
    {
      "cell_type": "markdown",
      "metadata": {
        "id": "sCcEPx5VIORj"
      },
      "source": [
        "## 1. (40%) Correctly implement and submit your own code for the perceptron learning algorithm. \n",
        "\n",
        "### Code requirements\n",
        "- Shuffle the data each epoch.\n",
        "- Use Stochastic/On-line training updates: Iterate and update weights after each training instance (i.e. do not attempt batch updates)\n",
        "- Implement a stopping criterion: when your model has trained for a number of epochs with no significant improvement in accuracy, stop training. Note that the weights/accuracy do not usually change monotonically.\n",
        "- Use your perceptron to solve the Debug data. We provide you with several parameters, and you should be able to replicate our results every time. When you are confident it is correct, run your perceptron on the Evaluation data with the same parameters, and print your final weights and accuracy."
      ]
    },
    {
      "cell_type": "code",
      "execution_count": 9,
      "metadata": {
        "id": "_a2KSZ_7AN0G"
      },
      "outputs": [],
      "source": [
        "class PerceptronClassifier(BaseEstimator,ClassifierMixin):\n",
        "\n",
        "    def __init__(self, epochs, lr=.1, shuffle=True):\n",
        "        \"\"\" \n",
        "            Initialize class with chosen hyperparameters.\n",
        "        Args:\n",
        "            lr (float): A learning rate / step size.\n",
        "            shuffle: Whether to shuffle the training data each epoch. DO NOT \n",
        "            SHUFFLE for evaluation / debug datasets.\n",
        "        \"\"\"\n",
        "        self.lr = lr\n",
        "        self.shuffle = shuffle\n",
        "        self.epochs = epochs\n",
        "\n",
        "    def fit(self, X, y, epochs_no_change=11, tol=0.01, initial_weights=None):\n",
        "        \"\"\" \n",
        "            Fit the data; run the algorithm and adjust the weights to find a \n",
        "            good solution\n",
        "        Args:\n",
        "            X (array-like): A 2D numpy array with the training data, excluding\n",
        "            targets\n",
        "            y (array-like): A 2D numpy array with the training targets\n",
        "            initial_weights (array-like): allows the user to provide initial \n",
        "            weights\n",
        "        Returns:\n",
        "            self: this allows this to be chained, e.g. model.fit(X,y).predict(X_test)\n",
        "        \"\"\"\n",
        "        # make X and y internal variables in the class\n",
        "        self.X = X\n",
        "        self.y = y\n",
        "        \n",
        "        if type(initial_weights) != np.ndarray:\n",
        "          self.weights = self.initialize_weights()\n",
        "        else:\n",
        "          self.weights = initial_weights\n",
        "\n",
        "        for i in range(0, self.epochs):\n",
        "          X_bias = None\n",
        "          if self.shuffle:\n",
        "            self._shuffle_data(self.X, self.y)\n",
        "          bias = np.ones((self.X.shape[0],1)) # bias vector of ones\n",
        "          X_bias = np.concatenate((self.X,bias), axis=1) # set X = X_shuffled with bias concatenated\n",
        "          for row in range(0, X_bias.shape[0]):\n",
        "            net = self.calcNet(X_bias, row)\n",
        "            output = self.output(net)\n",
        "            delta_wts = self.deltaWts(X_bias, row, output)\n",
        "            self.weights = np.add(self.weights, delta_wts)\n",
        "        return self\n",
        "\n",
        "    def calcNet(self, X, row):\n",
        "      return np.dot(X[row], self.weights)\n",
        "\n",
        "    def output(self, net):\n",
        "      if net > 0:\n",
        "        return 1\n",
        "      else:\n",
        "        return 0  \n",
        "\n",
        "    def deltaWts(self, X, row, output):\n",
        "      \"\"\"\n",
        "      calculates the delta_wts for the given row then returns those wts\n",
        "      \"\"\"\n",
        "      num_cols = X.shape[1]\n",
        "      delta_wts = np.zeros([self.weights.shape[0],1])\n",
        "      for col in range(0, num_cols):\n",
        "        delta_wts[col][0] = self.lr *(self.y[row][0] - output)*X[row][col]\n",
        "      return delta_wts\n",
        "\n",
        "    def predict(self, X):\n",
        "        \"\"\" \n",
        "            Predict all classes for a dataset X\n",
        "        Args:\n",
        "            X (array-like): A 2D numpy array with the training data, excluding \n",
        "            targets\n",
        "        Returns:\n",
        "            array, shape (n_samples,)\n",
        "                Predicted target values per element in X.\n",
        "        \"\"\"\n",
        "        bias = np.ones((X.shape[0],1)) # bias vector of ones\n",
        "        X_bias = np.concatenate((X,bias), axis=1) # set X = X_shuffled with bias concatenated\n",
        "        predictions = np.zeros([X.shape[0],1])\n",
        "        for row in range(0, X.shape[0]):\n",
        "          net = self.calcNet(X_bias, row)\n",
        "          output = self.output(net)\n",
        "          predictions[row][0] = output\n",
        "        return predictions\n",
        "\n",
        "    def initialize_weights(self):\n",
        "        \"\"\" Initialize weights for perceptron. Don't forget the bias!\n",
        "        Returns:\n",
        "        \"\"\"\n",
        "        num_wts = self.X.shape[1] + 1 # '+1' is for the bias\n",
        "        wts = np.empty([num_wts, 1])\n",
        "        for i in range(0,num_wts):\n",
        "          wts[i][0] = random.uniform(0,1)\n",
        "        return wts\n",
        "        # return [0]\n",
        "\n",
        "    def score(self, X, y):\n",
        "        \"\"\" \n",
        "            Return accuracy of model on a given dataset. Must implement own \n",
        "            score function.\n",
        "        Args:\n",
        "            X (array-like): A 2D numpy array with data, excluding targets\n",
        "            y (array-like): A 2D numpy array with targets\n",
        "        Returns:\n",
        "            score : float\n",
        "                Mean accuracy of self.predict(X) wrt. y.\n",
        "        \"\"\"\n",
        "        self._shuffle_data(X,y)\n",
        "        predictions = self.predict(X)\n",
        "        correct = 0\n",
        "        total = y.shape[0]\n",
        "        for i in range(0, y.shape[0]):\n",
        "          if predictions[i][0] == y[i][0]:\n",
        "            correct += 1\n",
        "        return correct/total\n",
        "\n",
        "    def _shuffle_data(self, X, y):\n",
        "        \"\"\" \n",
        "            Shuffle the data! This _ prefix suggests that this method should \n",
        "            only be called internally.\n",
        "            It might be easier to concatenate X & y and shuffle a single 2D \n",
        "            array, rather than shuffling X and y exactly the same way, \n",
        "            independently.\n",
        "        \"\"\"\n",
        "        single_arr = np.concatenate((X,y), axis=1) # concatenate X and y into a single array\n",
        "        np.random.shuffle(single_arr) # shuffle the rows of the concatenated X-y array\n",
        "        cutoff = single_arr.shape[1] - 1 # the point to split the X and y arrays after shuffling\n",
        "        X = single_arr[:,:cutoff] # the shuffled X array\n",
        "        y = single_arr[:,cutoff:] # the shuffled y array\n",
        "\n",
        "\n",
        "    ### Not required by sk-learn but required by us for grading. Returns the weights.\n",
        "    def get_weights(self):\n",
        "        return self.weights"
      ]
    },
    {
      "cell_type": "markdown",
      "metadata": {
        "id": "KibCIXIThpbE"
      },
      "source": [
        "## 1.1 Debug and Evaluation\n",
        "\n",
        "Debug and Evaluate your model using the parameters below\n",
        "\n",
        "Learning Rate = 0.1\\\n",
        "Deterministic = 10 [i.e., run it 10 epochs and should be the same everytime you run it]\\\n",
        "Shuffle = False\\\n",
        "Initial Weights = All zeros\n",
        "\n",
        "---\n",
        "\n",
        "### 1.1.1 Debug\n",
        "\n",
        "Debug your model by running it on the [debug dataset](https://byu.instructure.com/files/4421290/download?download_frd=1)\n",
        "\n",
        "Expected Results:\n",
        "\n",
        "Accuracy = [0.88]\\\n",
        "Final Weights = [-0.23  0.18 -0.1 ]"
      ]
    },
    {
      "cell_type": "code",
      "execution_count": 10,
      "metadata": {
        "id": "KgAyy82gixIF",
        "colab": {
          "base_uri": "https://localhost:8080/"
        },
        "outputId": "27dd23d5-8e25-41c1-8b91-2622fa0385bf"
      },
      "outputs": [
        {
          "output_type": "stream",
          "name": "stdout",
          "text": [
            "weights:\n",
            " [-0.23  0.18 -0.1 ]\n",
            "Accuracy =  0.875\n"
          ]
        }
      ],
      "source": [
        "import pandas as pd\n",
        "from scipy.io.arff import loadarff \n",
        "# LOAD DEBUG DATA\n",
        "raw_data = loadarff('linsep2nonorigin.arff')\n",
        "df_data = pd.DataFrame(raw_data[0])\n",
        "\n",
        "# CHANGE THE VALUES OF THE ROWS OF THE 'class' COLUMN TO BE 1s AND 0s INSTEAD OF \"b'1'\" OR \"b'0'\"\n",
        "df_data['class'] = df_data['class'].astype(int) \n",
        "\n",
        "np_arr = df_data.to_numpy() #cast dataframe to numpy array\n",
        "\n",
        "cutoff = np_arr.shape[1] - 1 #the index to split the X and y arrays\n",
        "\n",
        "# CUT THE numpy array INTO AN X AND y ARRAY\n",
        "X = np_arr[:,:cutoff] #inputs: from 1st column to cutoff (exclusive)\n",
        "y_2D = np_arr[:,cutoff:] #targets: from cutoff to last column\n",
        "\n",
        "# SET INITIAL WEIGHTS TO ZERO\n",
        "wts = np.zeros((X.shape[1]+1,1)) # weights\n",
        "\n",
        "# TRAIN ON DEBUG DATA\n",
        "perceptron = PerceptronClassifier(10, 0.1,False)\n",
        "\n",
        "perceptron.fit(X,y_2D,wts)\n",
        "\n",
        "# PRINT ACCURACY AND WEIGHTS\n",
        "print('weights:\\n',perceptron.get_weights().reshape((1,3))[0])\n",
        "print('Accuracy = ', perceptron.score(X,y_2D))"
      ]
    },
    {
      "cell_type": "markdown",
      "metadata": {
        "id": "kY3VNB1ui03N"
      },
      "source": [
        "### 1.1.2 Evaluation\n",
        "\n",
        "We will evaluate your model based on it's performance on the [evaluation dataset](https://byu.instructure.com/files/4421294/download?download_frd=1)"
      ]
    },
    {
      "cell_type": "code",
      "execution_count": 11,
      "metadata": {
        "id": "2yAxA78QjDh2",
        "colab": {
          "base_uri": "https://localhost:8080/"
        },
        "outputId": "55ca8ccd-0c33-4c77-e08a-13899f1253b2"
      },
      "outputs": [
        {
          "output_type": "stream",
          "name": "stdout",
          "text": [
            "weights:\n",
            " [-3.80657242 -2.840821   -3.0719334  -1.4003906   4.9       ]\n",
            "Accuracy =  0.9876093294460642\n"
          ]
        }
      ],
      "source": [
        "# LOAD DEBUG DATA\n",
        "raw_data = loadarff('data_banknote_authentication.arff')\n",
        "df_data = pd.DataFrame(raw_data[0])\n",
        "\n",
        "# CHANGE THE VALUES OF THE ROWS OF THE 'class' COLUMN TO BE 1s AND 0s INSTEAD OF \"b'1'\" OR \"b'0'\"\n",
        "df_data['class'] = df_data['class'].astype(int) \n",
        "\n",
        "np_arr = df_data.to_numpy() #cast dataframe to numpy array\n",
        "\n",
        "cutoff = np_arr.shape[1] - 1 #the index to split the X and y arrays\n",
        "\n",
        "# CUT THE numpy array INTO AN X AND y ARRAY\n",
        "X = np_arr[:,:cutoff] #inputs: from 1st column to cutoff (exclusive)\n",
        "y_2D = np_arr[:,cutoff:] #targets: from cutoff to last column\n",
        "\n",
        "# SET INITIAL WEIGHTS TO ZERO\n",
        "wts = np.zeros((X.shape[1]+1,1)) # weights\n",
        "\n",
        "# TRAIN ON DEBUG DATA\n",
        "perceptron = PerceptronClassifier(10, 0.1,False)\n",
        "\n",
        "perceptron.fit(X,y_2D,wts)\n",
        "\n",
        "# PRINT ACCURACY AND WEIGHTS\n",
        "print('weights:\\n',perceptron.get_weights().reshape((1,5))[0])\n",
        "print('Accuracy = ', perceptron.score(X,y_2D))"
      ]
    },
    {
      "cell_type": "markdown",
      "metadata": {
        "id": "9vWiTdlbR2Xh"
      },
      "source": [
        "## 2. (30%) Classifying on linearly separable and non-linearly separable data\n",
        "\n",
        "### 2.1 Create 2 datasets\n",
        "\n",
        "- Both with 8 instances using 2 real valued inputs (ranging between -1 and 1) with 4 instances from each class. \n",
        "- One data set should be linearly separable and the other not.\n",
        "\n"
      ]
    },
    {
      "cell_type": "code",
      "execution_count": 12,
      "metadata": {
        "id": "4SSoasDQSKXb",
        "colab": {
          "base_uri": "https://localhost:8080/",
          "height": 521
        },
        "outputId": "98b5cbef-12af-44bf-d114-74dac8466951"
      },
      "outputs": [
        {
          "output_type": "display_data",
          "data": {
            "image/png": "[encoded data removed]",
            "text/plain": [
              "<Figure size 432x288 with 1 Axes>"
            ]
          },
          "metadata": {
            "needs_background": "light"
          }
        },
        {
          "output_type": "display_data",
          "data": {
            "image/png": "[encoded data removed]",
            "text/plain": [
              "<Figure size 432x288 with 1 Axes>"
            ]
          },
          "metadata": {
            "needs_background": "light"
          }
        }
      ],
      "source": [
        "import matplotlib.pyplot as plt\n",
        "# Create 2 datasets\n",
        "# LINEARLY SEPARABLE DATA\n",
        "lin_sep_X = np.array([[.25,.6],[.4,.75],[-.2,.4],[.8,.75],[.95,.5],[.1,.05],[0,-.4],[-.3,-.3]])\n",
        "colors = ['blue', 'blue','blue','blue', 'orange','orange','orange','orange']\n",
        "lin_sep_y = np.array([[1],[1],[1],[1],[0],[0],[0],[0]])\n",
        "\n",
        "# -------------lin_sep visualization------------------\n",
        "x_coords = lin_sep_X[:,[0]]\n",
        "y_coords = lin_sep_X[:,[1]]\n",
        "fig, ax = plt.subplots()\n",
        "ax.scatter(x_coords.flatten(), y_coords.flatten(), c=colors)\n",
        "plt.xlim(-1,1)\n",
        "plt.ylim(-1,1)\n",
        "plt.grid()\n",
        "plt.show()\n",
        "# -------------lin_sep end visualization--------------\n",
        "\n",
        "# NON-LINEARLY SEPARABLE DATA\n",
        "non_lin_sep_X = np.array([[-.25,-.25],[.25,.1],[.05,.05],[.1,-.05],[.5,.6],[0,.6],[-.25,-.75],[.2,-.5]])\n",
        "non_lin_sep_y = np.array([[1],[1],[1],[1],[0],[0],[0],[0]])\n",
        "\n",
        "# -------------non_lin_sep visualization------------------\n",
        "x_coords2 = non_lin_sep_X[:,[0]]\n",
        "y_coords2 = non_lin_sep_X[:,[1]]\n",
        "fig2, ax2 = plt.subplots()\n",
        "ax2.scatter(x_coords2.flatten(), y_coords2.flatten(), c=colors)\n",
        "plt.xlim(-1,1)\n",
        "plt.ylim(-1,1)\n",
        "plt.grid()\n",
        "plt.show()\n",
        "# -------------non_lin_sep end visualization--------------\n"
      ]
    },
    {
      "cell_type": "markdown",
      "metadata": {
        "id": "SIRG42TgSR4x"
      },
      "source": [
        "### 2.2 Train on both sets with your perceptron code (with LR=.1)"
      ]
    },
    {
      "cell_type": "code",
      "execution_count": 13,
      "metadata": {
        "id": "KBGUn43ASiXW",
        "colab": {
          "base_uri": "https://localhost:8080/"
        },
        "outputId": "8b2e4251-354f-4a4f-8d71-a309b32efb6d"
      },
      "outputs": [
        {
          "output_type": "execute_result",
          "data": {
            "text/plain": [
              "PerceptronClassifier(epochs=10, shuffle=False)"
            ]
          },
          "metadata": {},
          "execution_count": 13
        }
      ],
      "source": [
        "# Train on each dataset\n",
        "# LINEARLY SEPARABLE\n",
        "perceptron1 = PerceptronClassifier(10, 0.1,False)\n",
        "\n",
        "perceptron1.fit(lin_sep_X,lin_sep_y)\n",
        "\n",
        "# NON-LINEARLY SEPARABLE\n",
        "perceptron2 = PerceptronClassifier(10, 0.1,False)\n",
        "\n",
        "perceptron2.fit(non_lin_sep_X,non_lin_sep_y)\n"
      ]
    },
    {
      "cell_type": "code",
      "source": [
        "# PRINT ACCURACY AND WEIGHTS\n",
        "print('weights:\\n',perceptron1.get_weights().reshape((1,3))[0])\n",
        "print('Accuracy = ', perceptron1.score(lin_sep_X,lin_sep_y))\n",
        "\n",
        "# PRINT ACCURACY AND WEIGHTS\n",
        "print('weights:\\n',perceptron2.get_weights().reshape((1,3))[0])\n",
        "print('Accuracy = ', perceptron2.score(non_lin_sep_X,non_lin_sep_y))"
      ],
      "metadata": {
        "colab": {
          "base_uri": "https://localhost:8080/"
        },
        "id": "Pk_dxGkOMu1T",
        "outputId": "59e06ea0-aa68-4abf-de78-a624d9239dd1"
      },
      "execution_count": 14,
      "outputs": [
        {
          "output_type": "stream",
          "name": "stdout",
          "text": [
            "weights:\n",
            " [-0.11161952  0.4221988  -0.13911639]\n",
            "Accuracy =  1.0\n",
            "weights:\n",
            " [ 0.01883176 -0.06144436 -0.16536744]\n",
            "Accuracy =  0.5\n"
          ]
        }
      ]
    },
    {
      "cell_type": "markdown",
      "metadata": {
        "id": "v19fpixqTe-7"
      },
      "source": [
        "### 2.3 Graph the datasets and their corresponding decision line\n",
        " \n",
        " - Graph each dataset\n",
        " - Use your trained perceptrons above to determine each dataset's decision line\n",
        " - For all graphs always label the axes!\n",
        " \n",
        "![Linearly Separable Data](https://raw.githubusercontent.com/rmorain/CS472-1/master/images/perceptron/linearly_separable.png)\n",
        "\n",
        "![Not Linearly Separable](https://raw.githubusercontent.com/rmorain/CS472-1/master/images/perceptron/not_linearly_separable.png)"
      ]
    },
    {
      "cell_type": "code",
      "execution_count": 16,
      "metadata": {
        "id": "ZCPFUAGTS2sX",
        "colab": {
          "base_uri": "https://localhost:8080/",
          "height": 625
        },
        "outputId": "54255d89-618f-49e8-f5f3-b0c5629abe39"
      },
      "outputs": [
        {
          "output_type": "stream",
          "name": "stdout",
          "text": [
            "w1 = -0.11161951601638714\n",
            "w2 = 0.4221988025910277\n",
            "b = -0.1391163918164144\n"
          ]
        },
        {
          "output_type": "display_data",
          "data": {
            "image/png": "[encoded data removed]",
            "text/plain": [
              "<Figure size 432x288 with 1 Axes>"
            ]
          },
          "metadata": {
            "needs_background": "light"
          }
        },
        {
          "output_type": "stream",
          "name": "stdout",
          "text": [
            "w1 = 0.018831759354329167\n",
            "w2 = -0.06144435872331208\n",
            "b = -0.1653674426569061\n"
          ]
        },
        {
          "output_type": "display_data",
          "data": {
            "image/png": "[encoded data removed]",
            "text/plain": [
              "<Figure size 432x288 with 1 Axes>"
            ]
          },
          "metadata": {
            "needs_background": "light"
          }
        }
      ],
      "source": [
        "# Graph datasets and decision lines\n",
        "#LINEARLY SEPARABLE GRAPH\n",
        "w1,w2,wb = perceptron1.get_weights().reshape((1,3))[0] # w1x + w2y + wb = 0\n",
        "print('w1 =',w1)\n",
        "print('w2 =',w2)\n",
        "print('b =',wb)\n",
        "x_intercept = -wb/w1\n",
        "y_intercept = -wb/w2\n",
        "m = (0 - y_intercept) / (x_intercept - 0)\n",
        "b = -wb/w2\n",
        "x = np.linspace(-1,1,100)\n",
        "y = m*x+b\n",
        "\n",
        "\n",
        "x_coords = lin_sep_X[:,[0]]\n",
        "y_coords = lin_sep_X[:,[1]]\n",
        "fig, ax = plt.subplots()\n",
        "ax.scatter(x_coords.flatten(), y_coords.flatten(), c=colors)\n",
        "plt.plot(x,y)\n",
        "plt.xlim(-1,1)\n",
        "plt.ylim(-1,1)\n",
        "plt.grid()\n",
        "plt.show()\n",
        "\n",
        "# NON-LINEARLY SEPARABLE GRAPH\n",
        "w1,w2,wb = perceptron2.get_weights().reshape((1,3))[0] # w1x + w2y + wb = 0\n",
        "print('w1 =',w1)\n",
        "print('w2 =',w2)\n",
        "print('b =',wb)\n",
        "x_intercept = -wb/w1\n",
        "y_intercept = -wb/w2\n",
        "m = (0 - y_intercept) / (x_intercept - 0)\n",
        "b = -wb/w2\n",
        "x = np.linspace(-1,1,100)\n",
        "y = m*x+b\n",
        "\n",
        "x_coords2 = non_lin_sep_X[:,[0]]\n",
        "y_coords2 = non_lin_sep_X[:,[1]]\n",
        "fig2, ax2 = plt.subplots()\n",
        "ax2.scatter(x_coords2.flatten(), y_coords2.flatten(), c=colors)\n",
        "plt.plot(x,y)\n",
        "plt.xlim(-1,1)\n",
        "plt.ylim(-1,1)\n",
        "plt.grid()\n",
        "plt.show()"
      ]
    },
    {
      "cell_type": "markdown",
      "metadata": {
        "id": "lgH6ArGr6NTs"
      },
      "source": [
        "### 2.4 Discuss why the perceptron won’t converge on non-linearly separable data."
      ]
    },
    {
      "cell_type": "markdown",
      "metadata": {
        "id": "uhJZr2-36NTs"
      },
      "source": [
        "*Discussion goes here*"
      ]
    },
    {
      "cell_type": "markdown",
      "metadata": {
        "id": "0ySvhd1lUGSe"
      },
      "source": [
        "## 3. (20%) Use your perceptron code to learn this version of the [voting data set](https://byu.instructure.com/files/4421311/download?download_frd=1).\n",
        "\n",
        "This particular task is an edited version of the standard voting set, where we have replaced all the “don’t know” values with the most common value for the particular attribute.  \n",
        "\n",
        "### 3.1 Create a table that reports the final training and test set accuracy and the number of epochs for each trial.\n",
        "\n",
        "- Try it five times with different random 70/30 splits. \n",
        "- Use your own code to randomize and make splits. \n",
        "- Report the 5 trials and the average across the 5 trials in a table.  \n",
        "\n",
        "| Trial | Training Accuracy | Test accuracy | Number of epochs |\n",
        "| --- | --- | --- | --- |\n",
        "| 1 | .95 | .55 | 4 |\n",
        "| 2 | .85 | .45 | 6 |\n",
        "| Average | .9 | .5 | 5 | \n",
        "\n",
        "*- As a rough sanity check, typical Perceptron test accuracies for the voting data set are 90%-98%.*\n"
      ]
    },
    {
      "cell_type": "code",
      "execution_count": null,
      "metadata": {
        "id": "Romyl4G8Trki"
      },
      "outputs": [],
      "source": [
        "# Create the table any way you like"
      ]
    },
    {
      "cell_type": "markdown",
      "metadata": {
        "id": "cm4rbWkzVeoR"
      },
      "source": [
        "### 3.2 By looking at the weights, explain what the model has learned and how the individual input features affect the result. Which specific features are most critical for the voting task, and which are least critical? \n"
      ]
    },
    {
      "cell_type": "markdown",
      "metadata": {
        "id": "g3F0Qp-BVi1R"
      },
      "source": [
        "*Explanation goes here*"
      ]
    },
    {
      "cell_type": "markdown",
      "metadata": {
        "id": "NyUmJ4yWVsQ7"
      },
      "source": [
        "### 3.3 Make a graph of the average misclassification rate vs epochs (0th – final epoch).\n",
        "\n",
        "- Average the misclassification rate for the training set across your 5 trials (not across 5 epochs).\n",
        "\n",
        "\n",
        "![Average Misclassification Rate](https://raw.githubusercontent.com/rmorain/CS472-1/master/images/perceptron/avg_misclassification_rate_vs_epochs.png)"
      ]
    },
    {
      "cell_type": "code",
      "execution_count": null,
      "metadata": {
        "id": "2_ZRPWWVVeFM"
      },
      "outputs": [],
      "source": [
        "# Graph here\n",
        "    \n",
        "def plot_misclassification(avg_misclassification_rate):\n",
        "    \"\"\"\n",
        "        Plots the average misclassification rate\n",
        "    Args:\n",
        "        avg_misclassification_rate (array-like): A 1D array or list\n",
        "    \"\"\"\n",
        "    plt.plot(np.arange(len(avg_misclassification_rate)), avg_misclassification_rate)\n",
        "    plt.title(\"Average Misclassification Rate vs. Epoch\")\n",
        "    plt.xlabel(\"Epoch\")\n",
        "    plt.ylabel(\"Misclassification Rate\")\n",
        "    plt.show()\n",
        "    \n"
      ]
    },
    {
      "cell_type": "markdown",
      "metadata": {
        "id": "oBBmeNQ7jvcQ"
      },
      "source": [
        "## 4.1 (5%) Use the perceptron algorithm from the [scikit-learn toolkit](https://scikit-learn.org/stable/modules/generated/sklearn.linear_model.Perceptron.html) to learn the voting task above.\n",
        "- Report and compare your results with your own perceptron code."
      ]
    },
    {
      "cell_type": "code",
      "execution_count": null,
      "metadata": {
        "id": "OFQv70W2VyqJ"
      },
      "outputs": [],
      "source": [
        "# Load sklearn perceptron\n",
        "\n",
        "# Train on voting dataset"
      ]
    },
    {
      "cell_type": "markdown",
      "metadata": {
        "id": "Km0p2pwq6NTv"
      },
      "source": [
        "*Report your comparison*"
      ]
    },
    {
      "cell_type": "markdown",
      "metadata": {
        "id": "w7YCb3_l6NTv"
      },
      "source": [
        "## 4.2 (5%) Use the perceptron algorithm from the [scikit-learn toolkit](https://scikit-learn.org/stable/modules/generated/sklearn.linear_model.Perceptron.html) to learn one other data set of your choice.\n",
        "- Try out some of the hyper-parameters that scikit-learn makes available."
      ]
    },
    {
      "cell_type": "code",
      "execution_count": null,
      "metadata": {
        "id": "Ber_UYbK6NTv"
      },
      "outputs": [],
      "source": [
        "# Load sklearn perceptron\n",
        "\n",
        "# Train on your dataset"
      ]
    },
    {
      "cell_type": "markdown",
      "metadata": {
        "id": "BqSFAXwlk3Ms"
      },
      "source": [
        "*Report what hyperparameters you experimented with & what performed well*"
      ]
    },
    {
      "cell_type": "markdown",
      "metadata": {
        "id": "cTlK-kijk8Mg"
      },
      "source": [
        "## 5. (Optional 5% extra credit) Use the perceptron rule to learn the [iris task](https://byu.instructure.com/files/4421369/download?download_frd=1) or some other task with more than two possible output values. \n",
        "\n",
        "Note that the [iris data](https://byu.instructure.com/files/4421369/download?download_frd=1) set has 3 output classes, and a perceptron node only has two possible outputs.  You could implement either of the two most common ways to deal with this. For testing you just execute the novel instance on each model and combine the overall results to see which output class wins."
      ]
    }
  ],
  "metadata": {
    "colab": {
      "collapsed_sections": [],
      "name": "cs472_lab_1_perceptron.ipynb",
      "provenance": []
    },
    "kernelspec": {
      "display_name": "Python 3",
      "language": "python",
      "name": "python3"
    },
    "language_info": {
      "codemirror_mode": {
        "name": "ipython",
        "version": 3
      },
      "file_extension": ".py",
      "mimetype": "text/x-python",
      "name": "python",
      "nbconvert_exporter": "python",
      "pygments_lexer": "ipython3",
      "version": "3.9.0"
    }
  },
  "nbformat": 4,
  "nbformat_minor": 0
}